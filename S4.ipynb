{
 "cells": [
  {
   "cell_type": "markdown",
   "metadata": {},
   "source": [
    "# Revisar complejidad temporal // Big O"
   ]
  },
  {
   "cell_type": "markdown",
   "metadata": {},
   "source": [
    "Fibonacci es Exponencial\n",
    "While... n= n//2 es O(logn)"
   ]
  },
  {
   "cell_type": "markdown",
   "metadata": {},
   "source": [
    "# Grafos"
   ]
  },
  {
   "cell_type": "markdown",
   "metadata": {},
   "source": [
    "Vértices y Aristas son la composición de los grafos\n",
    "\n",
    "Grafo nulo: No cuenta con vértices\n",
    "Grafo finito: Número finito de vértices\n",
    "Grafo infinito: Contiene a todos los grafos finitos como un subgrafo inducido\n",
    "\n",
    "#### Casos de uso para grafos\n",
    "Redes sociales, redes de datos\n",
    "\n",
    "#### Grado de un grafo\n",
    "Número de vértices que tiene\n",
    "\n",
    "#### Grado de un vértice\n",
    "Número de aristas que entran o salen (Grado de entrada y salida)"
   ]
  },
  {
   "cell_type": "markdown",
   "metadata": {},
   "source": [
    "Se puede definir grafos con matrices cuadradas (NxN)"
   ]
  },
  {
   "cell_type": "markdown",
   "metadata": {},
   "source": [
    "### BFS:\n",
    "\n",
    "Nodos se visitan y generan por niveles\n",
    "\n",
    "La estructura para los nodos abiertos es una cola FIFO\n",
    "\n",
    "Un nodo esvisitado cunado todos los nodos de los niveles superiores y sus hermanos precedentes han sido visitados\n",
    "\n",
    "### DFS:\n",
    "\n",
    "Los nodos se visitan y generan buscando los nodos a mayor profundidad y retrocediendo cuando no se encuentran nodos sucesores\n",
    "\n",
    "La estructura para los nodos abiertos es una pila (LIFO)\n",
    "\n",
    "Para garantizar el algoritmo acaba de imponerse un limite en la profundidad de exploración"
   ]
  },
  {
   "cell_type": "markdown",
   "metadata": {},
   "source": [
    "# Generar grafo aleatorio"
   ]
  },
  {
   "cell_type": "code",
   "execution_count": 2,
   "metadata": {},
   "outputs": [],
   "source": [
    "from random import *\n",
    "\n",
    "def generarGrafoL(n,m): #n nodos, m aristas\n",
    "    mat = [[]for i in range(n)]\n",
    "    for j in range(m):\n",
    "        v1= randint(0,n-1)\n",
    "        v2= randint(0,n-1)\n",
    "        while(v2 in mat[v1] or v2 == v1):\n",
    "            v1= randint(0,n-1)\n",
    "            v2= randint(0,n-1)\n",
    "        mat[v1]+=[v2]\n",
    "    return mat"
   ]
  },
  {
   "cell_type": "code",
   "execution_count": 3,
   "metadata": {},
   "outputs": [
    {
     "data": {
      "text/plain": [
       "[[], [0], [0, 3, 1], [0], [0, 1]]"
      ]
     },
     "execution_count": 3,
     "metadata": {},
     "output_type": "execute_result"
    }
   ],
   "source": [
    "generarGrafoL(5,7)"
   ]
  },
  {
   "cell_type": "code",
   "execution_count": 8,
   "metadata": {},
   "outputs": [
    {
     "data": {
      "text/plain": [
       "[(0, 2), (0, 3), (0, 4), (2, 1), (3, 2), (3, 0), (4, 1)]"
      ]
     },
     "execution_count": 8,
     "metadata": {},
     "output_type": "execute_result"
    }
   ],
   "source": [
    "def listaAristas(t):\n",
    "    t1 = []\n",
    "    for i in range(len(t)):\n",
    "        for j in t[i]:\n",
    "            t1 += [(i,j)]\n",
    "    return t1\n",
    "listaAristas(generarGrafoL(5,7))"
   ]
  },
  {
   "cell_type": "markdown",
   "metadata": {},
   "source": [
    "# BFS"
   ]
  },
  {
   "cell_type": "code",
   "execution_count": 41,
   "metadata": {},
   "outputs": [
    {
     "name": "stdout",
     "output_type": "stream",
     "text": [
      "[[3, 1], [], [4, 1], [2], [2, 1]]\n",
      "0 -> 3 1 \n",
      "1 -> \n",
      "2 -> 4 1 \n",
      "3 -> 2 \n",
      "4 -> 2 1 \n",
      "BFS:\n",
      "0 -> 3 -> 1 -> 2 -> 4 -> Fin\n"
     ]
    }
   ],
   "source": [
    "def imprimirGrafo(g):\n",
    "    for i in range(len(g)):\n",
    "        print(i, end=\" -> \")\n",
    "        for j in g[i]:\n",
    "            print(j, end= \" \")\n",
    "        print()\n",
    "\n",
    "def BFS(g,s):\n",
    "    visitado = [False]*(len(g))\n",
    "    cola = []\n",
    "    cola.append(s)\n",
    "    visitado[s] = True\n",
    "    while cola:\n",
    "        s = cola.pop(0)\n",
    "        print(s, end=\" -> \")\n",
    "        for x in g[s]:\n",
    "            if not visitado[x]:\n",
    "                cola.append(x)\n",
    "                visitado[x]=True\n",
    "    print(\"Fin\")\n",
    "\n",
    "g= generarGrafoL(5,7)\n",
    "print(g)\n",
    "imprimirGrafo(g)\n",
    "print(\"BFS:\")\n",
    "BFS(g,0)"
   ]
  },
  {
   "cell_type": "markdown",
   "metadata": {},
   "source": [
    "# DFS"
   ]
  },
  {
   "cell_type": "code",
   "execution_count": 43,
   "metadata": {},
   "outputs": [
    {
     "name": "stdout",
     "output_type": "stream",
     "text": [
      "0 -> 19 11 \n",
      "1 -> 0 18 \n",
      "2 -> 14 \n",
      "3 -> 11 \n",
      "4 -> 2 6 \n",
      "5 -> 1 \n",
      "6 -> \n",
      "7 -> 17 5 8 \n",
      "8 -> 10 17 \n",
      "9 -> 17 \n",
      "10 -> \n",
      "11 -> 17 \n",
      "12 -> 16 \n",
      "13 -> 11 3 7 \n",
      "14 -> 5 0 9 16 \n",
      "15 -> 16 7 \n",
      "16 -> \n",
      "17 -> 6 \n",
      "18 -> 9 \n",
      "19 -> 10 5 \n",
      "DFS:\n",
      "0 -> 19 -> 10 -> 5 -> 1 -> 18 -> 9 -> 17 -> 6 -> 11 -> Fin\n"
     ]
    }
   ],
   "source": [
    "def DFS(g,s):\n",
    "    visitado = [False]*(len(g))\n",
    "    DFSRec(g,s,visitado)\n",
    "    print(\"Fin\")\n",
    "    \n",
    "def DFSRec(g,s,visitado):\n",
    "    visitado[s] = True\n",
    "    print(s, end = \" -> \")\n",
    "    for x in g[s]:\n",
    "        if not visitado[x]:\n",
    "            DFSRec(g,x,visitado)      \n",
    "grafo = generarGrafoL(20,30)\n",
    "imprimirGrafo(grafo)\n",
    "print(\"DFS:\")\n",
    "DFS(grafo,0)"
   ]
  }
 ],
 "metadata": {
  "kernelspec": {
   "display_name": "Python 3",
   "language": "python",
   "name": "python3"
  },
  "language_info": {
   "codemirror_mode": {
    "name": "ipython",
    "version": 3
   },
   "file_extension": ".py",
   "mimetype": "text/x-python",
   "name": "python",
   "nbconvert_exporter": "python",
   "pygments_lexer": "ipython3",
   "version": "3.7.3"
  }
 },
 "nbformat": 4,
 "nbformat_minor": 2
}
