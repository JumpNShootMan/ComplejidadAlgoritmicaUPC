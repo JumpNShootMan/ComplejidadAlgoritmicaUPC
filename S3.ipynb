{
 "cells": [
  {
   "cell_type": "markdown",
   "metadata": {},
   "source": [
    "# Divide y Venceras // Divide and Conquer"
   ]
  },
  {
   "cell_type": "markdown",
   "metadata": {},
   "source": [
    "#### Hallar el valor máximo de un arreglo"
   ]
  },
  {
   "cell_type": "code",
   "execution_count": 24,
   "metadata": {},
   "outputs": [
    {
     "name": "stdout",
     "output_type": "stream",
     "text": [
      "[74, 25, 35, 33, 7, 43, 88, 78, 98, 84, 86, 32, 24, 62, 52, 51, 89, 94, 48, 61, 22, 79, 44, 58, 32, 73, 92, 19, 25, 33]\n",
      "30\n"
     ]
    },
    {
     "data": {
      "text/plain": [
       "98"
      ]
     },
     "execution_count": 24,
     "metadata": {},
     "output_type": "execute_result"
    }
   ],
   "source": [
    "import numpy as np\n",
    "\n",
    "def genrandarray(n):\n",
    "    array = []\n",
    "    for i in range(n):\n",
    "        array.append(np.random.randint(1,101))\n",
    "    print(array)\n",
    "    print(len(array))\n",
    "    return array\n",
    "arr = genrandarray(30)\n",
    "\n",
    "def maxarray(a, i, j):\n",
    "    if(i == j):\n",
    "        return a[i]\n",
    "    else:\n",
    "        med = (i+j)//2\n",
    "        maxi = maxarray(a,i,med)\n",
    "        maxd = maxarray(a,med+1,j)\n",
    "        if (maxi > maxd):\n",
    "            return maxi\n",
    "        else:\n",
    "            return maxd\n",
    "    return\n",
    "\n",
    "maxarray(arr,0,len(arr)-1)"
   ]
  },
  {
   "cell_type": "markdown",
   "metadata": {},
   "source": [
    "#### Complejidad es A veces el tamaño de un subproblema [ T(n) = a T (n/b) + O (n^k) ]"
   ]
  },
  {
   "cell_type": "markdown",
   "metadata": {},
   "source": [
    "#### Contador de palabras"
   ]
  },
  {
   "cell_type": "code",
   "execution_count": 88,
   "metadata": {},
   "outputs": [
    {
     "name": "stdout",
     "output_type": "stream",
     "text": [
      "['complejidad algoritmica me parece complicado pero me esforzarÃ© para que me vaya bien', 'complejidad algoritmica me parece complicado pero me esforzarÃ© para que me vaya bien', 'complejidad algoritmica me parece complicado pero me esforzarÃ© para que me vaya bien', 'complejidad algoritmica me parece complicado pero me esforzarÃ© para que me vaya bien', 'complejidad algoritmica me parece complicado pero me esforzarÃ© para que me vaya bien', 'complejidad algoritmica me parece complicado pero me esforzarÃ© para que me vaya bien', 'complejidad algoritmica me parece complicado pero me esforzarÃ© para que me vaya bien', 'complejidad algoritmica me parece complicado pero me esforzarÃ© para que me vaya bien', 'complejidad algoritmica me parece complicado pero me esforzarÃ© para que me vaya bien', 'complejidad algoritmica me parece complicado pero me esforzarÃ© para que me vaya bien', 'complejidad algoritmica me parece complicado pero me esforzarÃ© para que me vaya bien', 'complejidad algoritmica me parece complicado pero me esforzarÃ© para que me vaya bien', 'complejidad algoritmica me parece complicado pero me esforzarÃ© para que me vaya bien', 'complejidad algoritmica me parece complicado pero me esforzarÃ© para que me vaya bien', 'complejidad algoritmica me parece complicado pero me esforzarÃ© para que me vaya bien', 'complejidad algoritmica me parece complicado pero me esforzarÃ© para que me vaya bien', 'complejidad algoritmica me parece complicado pero me esforzarÃ© para que me vaya bien']\n",
      "221\n"
     ]
    }
   ],
   "source": [
    "data = open('S3WordCount.txt','r')\n",
    "#print(data.split(\" \"))\n",
    "sentences = []\n",
    "for sentence in data:\n",
    "    sentences += [word]\n",
    "print(sentences)\n",
    "    \n",
    "def wordcountDC(data):\n",
    "    if len(data) == 1:\n",
    "        return len(data[0].split(\" \"))\n",
    "    else:\n",
    "        m= len(data)//2\n",
    "        i = wordcountDC(data[:m])\n",
    "        d = wordcountDC(data[m:])\n",
    "    return i+d\n",
    "\n",
    "print(wordcountDC(sentences))"
   ]
  },
  {
   "cell_type": "markdown",
   "metadata": {},
   "source": [
    "#### Quick Sort"
   ]
  },
  {
   "cell_type": "code",
   "execution_count": 6,
   "metadata": {},
   "outputs": [
    {
     "name": "stdout",
     "output_type": "stream",
     "text": [
      "[99, 85, 40, 46, 24, 5, 52, 88, 32, 48, 26, 82, 98, 41, 38, 70, 81, 6, 90, 75, 100, 21, 13, 10, 23, 85, 33, 56, 85, 56, 72, 15, 38, 89, 9]\n",
      "35\n",
      "5 - 6 - 9 - 10 - 13 - 15 - 21 - 23 - 24 - 26 - 32 - 33 - 38 - 38 - 40 - 41 - 46 - 48 - 52 - 56 - 56 - 70 - 72 - 75 - 81 - 82 - 85 - 85 - 85 - 88 - 89 - 90 - 98 - 99 - 100 - \n",
      " Tiempo:  0.0019927024841308594 sec\n"
     ]
    }
   ],
   "source": [
    "import numpy as np\n",
    "\n",
    "def partition(arr,low,high): \n",
    "    i = ( low-1 )         # index of smaller element \n",
    "    pivot = arr[high]     # pivot \n",
    "    for j in range(low , high): \n",
    "        if   arr[j] <= pivot: \n",
    "            i = i+1 \n",
    "            arr[i],arr[j] = arr[j],arr[i]\n",
    "    arr[i+1],arr[high] = arr[high],arr[i+1] \n",
    "    return ( i+1 ) \n",
    "\n",
    "\n",
    "def quickSort(arr,low,high): \n",
    "    if low < high:\n",
    "        pi = partition(arr,low,high) \n",
    "        # Separately sort elements before \n",
    "        # partition and after partition \n",
    "        quickSort(arr, low, pi-1) \n",
    "        quickSort(arr, pi+1, high) \n",
    "        \n",
    "def genrandarray(n):\n",
    "    array = []\n",
    "    for i in range(n):\n",
    "        array.append(np.random.randint(1,101))\n",
    "    print(array)\n",
    "    print(len(array))\n",
    "    return array\n",
    "\n",
    "\n",
    "arr = genrandarray(35)\n",
    "\n",
    "import time\n",
    "start = time. time()\n",
    "quickSort(arr, 0, len(arr)-1)\n",
    "for i in arr: \n",
    "    print (i, end = ' - ')\n",
    "end = time.time()\n",
    "print(\"\\n Tiempo: \",end - start,\"sec\")\n",
    "\n",
    "\n",
    "\n"
   ]
  },
  {
   "cell_type": "markdown",
   "metadata": {},
   "source": [
    "Se puede observar que Quicksort es un algoritmo de divide y venceras, ya que particiona un arreglo y luego va ordenando en base a dichas particiones"
   ]
  }
 ],
 "metadata": {
  "kernelspec": {
   "display_name": "Python 3",
   "language": "python",
   "name": "python3"
  },
  "language_info": {
   "codemirror_mode": {
    "name": "ipython",
    "version": 3
   },
   "file_extension": ".py",
   "mimetype": "text/x-python",
   "name": "python",
   "nbconvert_exporter": "python",
   "pygments_lexer": "ipython3",
   "version": "3.7.3"
  }
 },
 "nbformat": 4,
 "nbformat_minor": 4
}
