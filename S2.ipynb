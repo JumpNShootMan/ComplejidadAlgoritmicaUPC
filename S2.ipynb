{
 "cells": [
  {
   "cell_type": "markdown",
   "metadata": {},
   "source": [
    "# Espacio de búsqueda y técnicas de resolución\n",
    "Estado Inicial, Soluciones Posibles, Estado Objetivo ...\n",
    "\n",
    "Inicio, Movimientos Legales, Posición Final"
   ]
  },
  {
   "cell_type": "markdown",
   "metadata": {},
   "source": [
    "# Problema 8 Puzzle - Espacio"
   ]
  },
  {
   "cell_type": "code",
   "execution_count": 6,
   "metadata": {},
   "outputs": [
    {
     "name": "stdout",
     "output_type": "stream",
     "text": [
      "[['7' '4' '2']\n",
      " ['1' 'b' '5']\n",
      " ['6' '3' '8']]\n",
      "[['1' '2' '3']\n",
      " ['8' 'b' '4']\n",
      " ['7' '6' '5']]\n"
     ]
    }
   ],
   "source": [
    "import numpy as np\n",
    "\n",
    "puzzle = np.array([[7,4,2],[1,'b',5],[6,3,8]])\n",
    "solpuzzle = np.array([[1,2,3],[8,'b',4],[7,6,5]])\n",
    "print(puzzle)\n",
    "print(solpuzzle)"
   ]
  },
  {
   "cell_type": "code",
   "execution_count": null,
   "metadata": {},
   "outputs": [],
   "source": [
    "def verificarpuzzle(puzzle):\n",
    "    if(puzzle == solpuzzle):\n",
    "        print(\"El puzzle se encuentra ordenado\"):\n",
    "            return\n",
    "def moverpuzzle(puzzle):\n",
    "    "
   ]
  },
  {
   "cell_type": "markdown",
   "metadata": {},
   "source": [
    "# Bubble Sort"
   ]
  },
  {
   "cell_type": "code",
   "execution_count": 10,
   "metadata": {},
   "outputs": [
    {
     "name": "stdout",
     "output_type": "stream",
     "text": [
      "[1 2 3 4 5 6 7 8 9]\n"
     ]
    }
   ],
   "source": [
    "bubblearray = np.array([9,8,7,6,5,4,3,2,1])\n",
    "def bubblesort(array):\n",
    "    for i in range(len(array)):\n",
    "        for j in range(len(array)-i-1):\n",
    "            if(array[j]>array[j+1]):\n",
    "                aux = array[j]\n",
    "                array[j] = array[j+1]\n",
    "                array[j+1]= aux\n",
    "    print(array)\n",
    "    \n",
    "bubblesort(bubblearray)"
   ]
  },
  {
   "cell_type": "markdown",
   "metadata": {},
   "source": [
    "# Polinomios"
   ]
  },
  {
   "cell_type": "code",
   "execution_count": 27,
   "metadata": {},
   "outputs": [
    {
     "name": "stdout",
     "output_type": "stream",
     "text": [
      "[3, 2, 1, 2, 1]\n",
      "87\n"
     ]
    }
   ],
   "source": [
    "#n es largo del polinomio\n",
    "#x es valor de entrada\n",
    "\n",
    "def calcularpolinomio(n,x):\n",
    "    array= [] \n",
    "    for i in range(n):\n",
    "        array.append(np.random.randint(1,5))\n",
    "    print(array)\n",
    "    suma = 0\n",
    "    while(n>=0):\n",
    "        suma += array[n-1]*(x**n)\n",
    "        n= n-1\n",
    "    print(suma)\n",
    "    \n",
    "calcularpolinomio(5,2)"
   ]
  },
  {
   "cell_type": "markdown",
   "metadata": {},
   "source": [
    "# Send + More = Money"
   ]
  },
  {
   "cell_type": "code",
   "execution_count": 30,
   "metadata": {},
   "outputs": [],
   "source": [
    "#Espacio de Búsqueda:\n",
    "#Inicio: SEND+\n",
    "#        MORE \n",
    "#        ______\n",
    "#        MONEY\n",
    "        \n",
    "#Final:  abcd+\n",
    "#        efgb\n",
    "#        ____\n",
    "#        afcbh"
   ]
  },
  {
   "cell_type": "markdown",
   "metadata": {},
   "source": [
    "##### Fuerza Bruta"
   ]
  },
  {
   "cell_type": "code",
   "execution_count": 36,
   "metadata": {},
   "outputs": [
    {
     "name": "stdout",
     "output_type": "stream",
     "text": [
      "[1, 9, 5, 6, 7, 0, 8, 2]\n",
      "9567\n",
      "+\n",
      "1085\n",
      "=\n",
      "10652\n"
     ]
    }
   ],
   "source": [
    "def criptoaritmobruto():\n",
    "    array = [0]*8\n",
    "    M = 1\n",
    "    for S in range (9,0,-1):\n",
    "        for E in range(10):\n",
    "            for N in range(0,10):\n",
    "                for D in range(0,10):\n",
    "                    for O in range(0,10):\n",
    "                        for R in range(0,10):\n",
    "                            for Y in range(0,10):\n",
    "                                v = [M,S,E,N,D,O,R,Y]\n",
    "                                if(len(v) == len(set(v))):\n",
    "                                    if(((D+N*10+E*10**2+S*10**3)+(E+R*10+O*10**2+M*10**3))== (M*10**4+O*10**3+N*10**2+E*10+Y)):\n",
    "                                        print(v)\n",
    "                                        print(D+N*10+E*10**2+S*10**3)\n",
    "                                        print(\"+\")\n",
    "                                        print(E+R*10+O*10**2+M*10**3)\n",
    "                                        print(\"=\")\n",
    "                                        print(M*10**4+O*10**3+N*10**2+E*10+Y)\n",
    "                                        return\n",
    "                                    \n",
    "criptoaritmobruto()"
   ]
  },
  {
   "cell_type": "markdown",
   "metadata": {},
   "source": [
    "##### Backtracking"
   ]
  }
 ],
 "metadata": {
  "kernelspec": {
   "display_name": "Python 3",
   "language": "python",
   "name": "python3"
  },
  "language_info": {
   "codemirror_mode": {
    "name": "ipython",
    "version": 3
   },
   "file_extension": ".py",
   "mimetype": "text/x-python",
   "name": "python",
   "nbconvert_exporter": "python",
   "pygments_lexer": "ipython3",
   "version": "3.7.3"
  }
 },
 "nbformat": 4,
 "nbformat_minor": 2
}
