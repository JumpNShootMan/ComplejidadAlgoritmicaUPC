{
 "cells": [
  {
   "cell_type": "markdown",
   "metadata": {},
   "source": [
    "# Analisis de tiempo"
   ]
  },
  {
   "cell_type": "markdown",
   "metadata": {},
   "source": [
    "El tiempo que se demora un programa en resolver un problema\n",
    "Un problema clásico (como el sort) es aquel que existe desde tiempos immemoriables.\n",
    "Hay métodos de selección, búsqueda algorítmica en grafos, programación lineal, etc.\n",
    "\n",
    "Los algoritmos se conciben con esquemas, patrones de diseño, divide y vencerás, probramación dinámica, algoritmos greedy (una solución rápida pero no la mejor), etc."
   ]
  },
  {
   "cell_type": "markdown",
   "metadata": {},
   "source": [
    "### Un algoritmo va a ser eficaz si se comporta de manera razonable independientemente de la plataforma incluso para datos de gran tamaño"
   ]
  },
  {
   "cell_type": "markdown",
   "metadata": {},
   "source": [
    "##### Complejidad en el mejor caso\n",
    "##### Complejidad en el peor caso\n",
    "##### Complejidad en caso medio: hace falta una distribución de probabilidades para todo dato de entrada n"
   ]
  },
  {
   "cell_type": "markdown",
   "metadata": {},
   "source": [
    "### Generar un arreglo de tamaño n de elementos aleatorios de 1 a 100"
   ]
  },
  {
   "cell_type": "code",
   "execution_count": 7,
   "metadata": {},
   "outputs": [],
   "source": [
    "import numpy as np\n",
    "def genrandarray(n):\n",
    "    array = []\n",
    "    for i in range(n):\n",
    "        array.append(np.random.randint(1,101))\n",
    "    print(array)\n",
    "    return array"
   ]
  },
  {
   "cell_type": "code",
   "execution_count": 8,
   "metadata": {},
   "outputs": [
    {
     "name": "stdout",
     "output_type": "stream",
     "text": [
      "[1, 11, 78, 81, 40, 18, 96, 77, 91, 78, 91, 11, 12, 71, 70, 57, 70, 95, 64, 17, 50, 87, 24, 28, 86, 75, 57, 68, 32, 42, 90, 18, 9, 2, 18, 78, 91, 100, 33, 77, 60, 20, 79, 35, 11, 70, 54, 49, 51, 3]\n"
     ]
    }
   ],
   "source": [
    "array = genrandarray(50)"
   ]
  },
  {
   "cell_type": "markdown",
   "metadata": {},
   "source": [
    "### Imprimir datos del arreglo"
   ]
  },
  {
   "cell_type": "code",
   "execution_count": 9,
   "metadata": {},
   "outputs": [
    {
     "name": "stdout",
     "output_type": "stream",
     "text": [
      "1 - 11 - 78 - 81 - 40 - 18 - 96 - 77 - 91 - 78 - 91 - 11 - 12 - 71 - 70 - 57 - 70 - 95 - 64 - 17 - 50 - 87 - 24 - 28 - 86 - 75 - 57 - 68 - 32 - 42 - 90 - 18 - 9 - 2 - 18 - 78 - 91 - 100 - 33 - 77 - 60 - 20 - 79 - 35 - 11 - 70 - 54 - 49 - 51 - 3 - "
     ]
    }
   ],
   "source": [
    "for i in range(len(array)):\n",
    "    print(array[i], end= \" - \")"
   ]
  },
  {
   "cell_type": "markdown",
   "metadata": {},
   "source": [
    "### Dar reversa a un arreglo de dos formas"
   ]
  },
  {
   "cell_type": "code",
   "execution_count": 10,
   "metadata": {},
   "outputs": [
    {
     "name": "stdout",
     "output_type": "stream",
     "text": [
      "1 - 11 - 78 - 81 - 40 - 18 - 96 - 77 - 91 - 78 - 91 - 11 - 12 - 71 - 70 - 57 - 70 - 95 - 64 - 17 - 50 - 87 - 24 - 28 - 86 - 75 - 57 - 68 - 32 - 42 - 90 - 18 - 9 - 2 - 18 - 78 - 91 - 100 - 33 - 77 - 60 - 20 - 79 - 35 - 11 - 70 - 54 - 49 - 51 - 3 - "
     ]
    }
   ],
   "source": [
    "#Forma 1\n",
    "def reversa(arreglo):\n",
    "    n = len(a)\n",
    "    for i in range(n//2):\n",
    "        temp = a[i]\n",
    "        a[i] = a[n-1-i]\n",
    "        a[n-1-i] = t\n",
    "\n",
    "#Forma 2\n",
    "#array.reverse()\n",
    "for i in array :\n",
    "    print(i, end= \" - \")"
   ]
  },
  {
   "cell_type": "markdown",
   "metadata": {},
   "source": [
    "### Minimo valor de un arreglo"
   ]
  },
  {
   "cell_type": "code",
   "execution_count": 11,
   "metadata": {},
   "outputs": [
    {
     "name": "stdout",
     "output_type": "stream",
     "text": [
      "1\n"
     ]
    }
   ],
   "source": [
    "min = 102\n",
    "for num in array:\n",
    "    if num < min: \n",
    "        min = num\n",
    "        \n",
    "print(min)"
   ]
  },
  {
   "cell_type": "markdown",
   "metadata": {},
   "source": [
    "### La media del arreglo"
   ]
  },
  {
   "cell_type": "code",
   "execution_count": 13,
   "metadata": {},
   "outputs": [
    {
     "name": "stdout",
     "output_type": "stream",
     "text": [
      "52.52\n"
     ]
    }
   ],
   "source": [
    "def mediaarreglo(a):\n",
    "    print(sum(a)/len(a))\n",
    "    \n",
    "mediaarreglo(array)"
   ]
  },
  {
   "cell_type": "markdown",
   "metadata": {},
   "source": [
    "### Las ocurrencias de valores en el arreglo"
   ]
  },
  {
   "cell_type": "code",
   "execution_count": 16,
   "metadata": {},
   "outputs": [
    {
     "name": "stdout",
     "output_type": "stream",
     "text": [
      "Ocurrencias...\n",
      "El valor  1  ocurre  1  veces\n",
      "El valor  2  ocurre  1  veces\n",
      "El valor  3  ocurre  1  veces\n",
      "El valor  9  ocurre  1  veces\n",
      "El valor  11  ocurre  3  veces\n",
      "El valor  12  ocurre  1  veces\n",
      "El valor  17  ocurre  1  veces\n",
      "El valor  18  ocurre  3  veces\n",
      "El valor  20  ocurre  1  veces\n",
      "El valor  24  ocurre  1  veces\n",
      "El valor  28  ocurre  1  veces\n",
      "El valor  32  ocurre  1  veces\n",
      "El valor  33  ocurre  1  veces\n",
      "El valor  35  ocurre  1  veces\n",
      "El valor  40  ocurre  1  veces\n",
      "El valor  42  ocurre  1  veces\n",
      "El valor  49  ocurre  1  veces\n",
      "El valor  50  ocurre  1  veces\n",
      "El valor  51  ocurre  1  veces\n",
      "El valor  54  ocurre  1  veces\n",
      "El valor  57  ocurre  2  veces\n",
      "El valor  60  ocurre  1  veces\n",
      "El valor  64  ocurre  1  veces\n",
      "El valor  68  ocurre  1  veces\n",
      "El valor  70  ocurre  3  veces\n",
      "El valor  71  ocurre  1  veces\n",
      "El valor  75  ocurre  1  veces\n",
      "El valor  77  ocurre  2  veces\n",
      "El valor  78  ocurre  3  veces\n",
      "El valor  79  ocurre  1  veces\n",
      "El valor  81  ocurre  1  veces\n",
      "El valor  86  ocurre  1  veces\n",
      "El valor  87  ocurre  1  veces\n",
      "El valor  90  ocurre  1  veces\n",
      "El valor  91  ocurre  3  veces\n",
      "El valor  95  ocurre  1  veces\n",
      "El valor  96  ocurre  1  veces\n",
      "El valor  100  ocurre  1  veces\n"
     ]
    }
   ],
   "source": [
    "def ocurrencias(a):\n",
    "    oc = [0] * (max(a) + 1) #arreglo de tamaño de 0 a 100\n",
    "    for x in a:\n",
    "        oc[x] += 1\n",
    "    return oc\n",
    "print(\"Ocurrencias...\")\n",
    "oc = ocurrencias(array)\n",
    "for i in range(len(oc)):\n",
    "    if oc[i] > 0:\n",
    "        print(\"El valor \", i,\" ocurre \", oc[i], \" veces\")"
   ]
  },
  {
   "cell_type": "markdown",
   "metadata": {},
   "source": [
    "### Crear un arreglo de 100 enteros"
   ]
  },
  {
   "cell_type": "code",
   "execution_count": 26,
   "metadata": {},
   "outputs": [
    {
     "data": {
      "text/plain": [
       "[1,\n",
       " 2,\n",
       " 3,\n",
       " 4,\n",
       " 5,\n",
       " 6,\n",
       " 7,\n",
       " 8,\n",
       " 9,\n",
       " 10,\n",
       " 11,\n",
       " 12,\n",
       " 13,\n",
       " 14,\n",
       " 15,\n",
       " 16,\n",
       " 17,\n",
       " 18,\n",
       " 19,\n",
       " 20,\n",
       " 21,\n",
       " 22,\n",
       " 23,\n",
       " 24,\n",
       " 25,\n",
       " 26,\n",
       " 27,\n",
       " 28,\n",
       " 29,\n",
       " 30,\n",
       " 31,\n",
       " 32,\n",
       " 33,\n",
       " 34,\n",
       " 35,\n",
       " 36,\n",
       " 37,\n",
       " 38,\n",
       " 39,\n",
       " 40,\n",
       " 41,\n",
       " 42,\n",
       " 43,\n",
       " 44,\n",
       " 45,\n",
       " 46,\n",
       " 47,\n",
       " 48,\n",
       " 49,\n",
       " 50,\n",
       " 51,\n",
       " 52,\n",
       " 53,\n",
       " 54,\n",
       " 55,\n",
       " 56,\n",
       " 57,\n",
       " 58,\n",
       " 59,\n",
       " 60,\n",
       " 61,\n",
       " 62,\n",
       " 63,\n",
       " 64,\n",
       " 65,\n",
       " 66,\n",
       " 67,\n",
       " 68,\n",
       " 69,\n",
       " 70,\n",
       " 71,\n",
       " 72,\n",
       " 73,\n",
       " 74,\n",
       " 75,\n",
       " 76,\n",
       " 77,\n",
       " 78,\n",
       " 79,\n",
       " 80,\n",
       " 81,\n",
       " 82,\n",
       " 83,\n",
       " 84,\n",
       " 85,\n",
       " 86,\n",
       " 87,\n",
       " 88,\n",
       " 89,\n",
       " 90,\n",
       " 91,\n",
       " 92,\n",
       " 93,\n",
       " 94,\n",
       " 95,\n",
       " 96,\n",
       " 97,\n",
       " 98,\n",
       " 99,\n",
       " 100]"
      ]
     },
     "execution_count": 26,
     "metadata": {},
     "output_type": "execute_result"
    }
   ],
   "source": [
    "def ej2a(n):\n",
    "    return [i for i in range(1,n+1)]\n",
    "ej2a(100)\n"
   ]
  },
  {
   "cell_type": "markdown",
   "metadata": {},
   "source": [
    "### Crear un arreglo de numeros pares"
   ]
  },
  {
   "cell_type": "code",
   "execution_count": 24,
   "metadata": {},
   "outputs": [
    {
     "data": {
      "text/plain": [
       "[2, 4, 6, 8, 10, 12, 14, 16, 18, 20]"
      ]
     },
     "execution_count": 24,
     "metadata": {},
     "output_type": "execute_result"
    }
   ],
   "source": [
    "def ej2b(n):\n",
    "    return [i for i in range(1,n+1) if i%2 == 0]\n",
    "ej2b(20)"
   ]
  },
  {
   "cell_type": "markdown",
   "metadata": {},
   "source": [
    "### Sudoku validando celdas"
   ]
  },
  {
   "cell_type": "code",
   "execution_count": 29,
   "metadata": {},
   "outputs": [
    {
     "data": {
      "text/plain": [
       "array([[7, 3, 5, 6, 1, 4, 8, 9, 2],\n",
       "       [8, 4, 2, 9, 7, 3, 5, 6, 1],\n",
       "       [9, 6, 1, 2, 8, 5, 3, 7, 4],\n",
       "       [2, 8, 6, 3, 4, 9, 1, 5, 7],\n",
       "       [4, 1, 3, 8, 5, 7, 9, 2, 6],\n",
       "       [5, 7, 9, 1, 2, 6, 4, 3, 8],\n",
       "       [1, 5, 7, 4, 9, 2, 6, 8, 3],\n",
       "       [6, 9, 4, 7, 3, 8, 2, 1, 5],\n",
       "       [3, 2, 8, 5, 6, 1, 7, 4, 9]])"
      ]
     },
     "execution_count": 29,
     "metadata": {},
     "output_type": "execute_result"
    }
   ],
   "source": [
    "grid"
   ]
  },
  {
   "cell_type": "code",
   "execution_count": 25,
   "metadata": {},
   "outputs": [
    {
     "name": "stdout",
     "output_type": "stream",
     "text": [
      "[[7 8 9 2 4 5 1 6 3]\n",
      " [3 4 6 8 1 7 5 9 2]\n",
      " [5 2 1 6 3 9 7 4 8]\n",
      " [6 9 2 3 8 1 4 7 5]\n",
      " [1 7 8 4 5 2 9 3 6]\n",
      " [4 3 5 9 7 6 2 8 1]\n",
      " [8 5 3 1 9 4 6 2 7]\n",
      " [9 6 7 5 2 3 8 1 4]\n",
      " [2 1 4 7 6 8 3 5 9]]\n"
     ]
    }
   ],
   "source": [
    "print(grid2)"
   ]
  },
  {
   "cell_type": "code",
   "execution_count": 40,
   "metadata": {},
   "outputs": [
    {
     "name": "stdout",
     "output_type": "stream",
     "text": [
      "celdas horizontales correctas\n",
      "celdas verticales correctas\n",
      "La complejidad es n^2\n"
     ]
    }
   ],
   "source": [
    "#Inicializar el mapa de sudoku\n",
    "import numpy as np\n",
    "grid = np.array([[7,3,5,6,1,4,8,9,2],\n",
    "[8,4,2,9,7,3,5,6,1],\n",
    "[9,6,1,2,8,5,3,7,4],\n",
    "[2,8,6,3,4,9,1,5,7],\n",
    "[4,1,3,8,5,7,9,2,6],\n",
    "[5,7,9,1,2,6,4,3,8],\n",
    "[1,5,7,4,9,2,6,8,3],\n",
    "[6,9,4,7,3,8,2,1,5],\n",
    "[3,2,8,5,6,1,7,4,9]])\n",
    "\n",
    "grid2 = gridnp.transpose()\n",
    "\n",
    "def validarceldas(grid):\n",
    "    for row in grid:\n",
    "        temp = [0]*9\n",
    "        for num in row:\n",
    "            if(num!=0):\n",
    "                temp[num-1]+=1\n",
    "                if(temp[num-1]>1):\n",
    "                    print(\"Error en celda horizontal\")\n",
    "                    return\n",
    "                \n",
    "    print(\"celdas horizontales correctas\")\n",
    "    for row in grid.transpose():\n",
    "        temp = [0]*9\n",
    "        for num in row:\n",
    "            if(num!=0):\n",
    "                temp[num-1]+=1\n",
    "                if(temp[num-1]>1):\n",
    "                    print(\"Error en celda vertical\")\n",
    "                    return\n",
    "    print(\"celdas verticales correctas\")\n",
    "    print(\"La complejidad es n^2\")\n",
    "    return\n",
    "\n",
    "validarceldas(grid)\n",
    "\n",
    "\n",
    "    \n",
    "#Ver como funciona Set()"
   ]
  },
  {
   "cell_type": "markdown",
   "metadata": {},
   "source": [
    "### Criba de Eratóstenes"
   ]
  },
  {
   "cell_type": "code",
   "execution_count": 87,
   "metadata": {},
   "outputs": [
    {
     "name": "stdout",
     "output_type": "stream",
     "text": [
      "[2, 3, 5, 7, 11, 13, 17, 19, 23, 29, 31, 37, 41, 43, 47, 53, 59, 61, 67, 71, 73, 79, 83, 89, 97]\n"
     ]
    }
   ],
   "source": [
    "import math\n",
    "def numprimos(n):\n",
    "    a= [True for i in range(n)]\n",
    "    a[0] = False\n",
    "    a[1] = False\n",
    "    for i in range(2,int(math.sqrt(n))+1):\n",
    "        if(a[i]==True):\n",
    "            for j in range(i*i,n,i):\n",
    "                a[j] = False\n",
    "    print([i for i in range(len(a)) if a[i]])\n",
    "    \n",
    "numprimos(100)"
   ]
  }
 ],
 "metadata": {
  "kernelspec": {
   "display_name": "Python 3",
   "language": "python",
   "name": "python3"
  },
  "language_info": {
   "codemirror_mode": {
    "name": "ipython",
    "version": 3
   },
   "file_extension": ".py",
   "mimetype": "text/x-python",
   "name": "python",
   "nbconvert_exporter": "python",
   "pygments_lexer": "ipython3",
   "version": "3.7.3"
  }
 },
 "nbformat": 4,
 "nbformat_minor": 2
}
